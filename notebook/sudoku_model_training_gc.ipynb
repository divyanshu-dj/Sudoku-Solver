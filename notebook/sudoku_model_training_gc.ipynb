{
  "nbformat": 4,
  "nbformat_minor": 0,
  "metadata": {
    "colab": {
      "provenance": [],
      "gpuType": "T4"
    },
    "kernelspec": {
      "name": "python3",
      "display_name": "Python 3"
    },
    "language_info": {
      "name": "python"
    },
    "accelerator": "GPU"
  },
  "cells": [
    {
      "cell_type": "code",
      "execution_count": null,
      "metadata": {
        "colab": {
          "base_uri": "https://localhost:8080/"
        },
        "id": "7iNnQNLO3bho",
        "outputId": "c46feb7e-8c36-442a-e40b-a2d1e3bdcb57"
      },
      "outputs": [
        {
          "output_type": "stream",
          "name": "stdout",
          "text": [
            "Epoch 1/5\n",
            "\u001b[1m1875/1875\u001b[0m \u001b[32m━━━━━━━━━━━━━━━━━━━━\u001b[0m\u001b[37m\u001b[0m \u001b[1m7s\u001b[0m 3ms/step - accuracy: 0.9135 - loss: 0.2884\n",
            "Epoch 2/5\n",
            "\u001b[1m1875/1875\u001b[0m \u001b[32m━━━━━━━━━━━━━━━━━━━━\u001b[0m\u001b[37m\u001b[0m \u001b[1m6s\u001b[0m 3ms/step - accuracy: 0.9867 - loss: 0.0446\n",
            "Epoch 3/5\n",
            "\u001b[1m1875/1875\u001b[0m \u001b[32m━━━━━━━━━━━━━━━━━━━━\u001b[0m\u001b[37m\u001b[0m \u001b[1m5s\u001b[0m 3ms/step - accuracy: 0.9915 - loss: 0.0277\n",
            "Epoch 4/5\n",
            "\u001b[1m1875/1875\u001b[0m \u001b[32m━━━━━━━━━━━━━━━━━━━━\u001b[0m\u001b[37m\u001b[0m \u001b[1m6s\u001b[0m 3ms/step - accuracy: 0.9944 - loss: 0.0184\n",
            "Epoch 5/5\n",
            "\u001b[1m1875/1875\u001b[0m \u001b[32m━━━━━━━━━━━━━━━━━━━━\u001b[0m\u001b[37m\u001b[0m \u001b[1m5s\u001b[0m 3ms/step - accuracy: 0.9958 - loss: 0.0126\n"
          ]
        }
      ],
      "source": [
        "from tensorflow import keras\n",
        "from tensorflow.keras import layers\n",
        "from keras.datasets import mnist\n",
        "# Now load data and train\n",
        "(x_train, y_train), (x_test, y_test) = keras.datasets.mnist.load_data()\n",
        "x_train = x_train.reshape((-1, 28, 28, 1)).astype('float32') / 255\n",
        "\n",
        "\n",
        "def create_model():\n",
        "    model = keras.Sequential([\n",
        "        layers.Input(shape=(28, 28, 1)),\n",
        "        layers.Conv2D(32, (3, 3), activation='relu'),\n",
        "        layers.MaxPooling2D((2, 2)),\n",
        "        layers.Conv2D(64, (3, 3), activation='relu'),\n",
        "        layers.MaxPooling2D((2, 2)),\n",
        "        layers.Flatten(),\n",
        "        layers.Dense(128, activation='relu'),\n",
        "        layers.Dense(10, activation='softmax')\n",
        "    ])\n",
        "    model.compile(optimizer='adam',\n",
        "                  loss='sparse_categorical_crossentropy',\n",
        "                  metrics=['accuracy'])\n",
        "    return model\n",
        "model = create_model()  # Now this function is defined\n",
        "model.fit(x_train, y_train, epochs=5, batch_size=32)\n",
        "model.save_weights('mnist.weights.h5')"
      ]
    },
    {
      "cell_type": "code",
      "source": [
        "import numpy as np\n",
        "import numpy as np\n",
        "import matplotlib.pyplot as plt\n",
        "import cv2\n",
        "from PIL import Image\n",
        "import tensorflow as tf\n",
        "from tensorflow import keras\n",
        "(_, _), (x_test, y_test) = keras.datasets.mnist.load_data()\n",
        "sample_image = x_test[5657]\n",
        "sample_label = y_test[5657]\n",
        "\n",
        "# Preprocess\n",
        "image = sample_image.reshape(1, 28, 28, 1).astype('float32') / 255\n",
        "\n",
        "# Predict\n",
        "prediction = model.predict(image)\n",
        "predicted_digit = np.argmax(prediction)\n",
        "\n",
        "# Show result\n",
        "plt.imshow(sample_image, cmap='gray')\n",
        "plt.title(f\"Predicted: {predicted_digit}, Actual: {sample_label}\")\n",
        "plt.axis('off')\n",
        "plt.show()"
      ],
      "metadata": {
        "colab": {
          "base_uri": "https://localhost:8080/",
          "height": 445
        },
        "id": "pHphhK02YKn8",
        "outputId": "eddab9fa-2a88-44d8-8f31-512036d66241"
      },
      "execution_count": null,
      "outputs": [
        {
          "output_type": "stream",
          "name": "stdout",
          "text": [
            "\u001b[1m1/1\u001b[0m \u001b[32m━━━━━━━━━━━━━━━━━━━━\u001b[0m\u001b[37m\u001b[0m \u001b[1m0s\u001b[0m 255ms/step\n"
          ]
        },
        {
          "output_type": "display_data",
          "data": {
            "text/plain": [
              "<Figure size 640x480 with 1 Axes>"
            ],
            "image/png": "[encoded data removed]"
          },
          "metadata": {}
        }
      ]
    },
    {
      "cell_type": "code",
      "source": [
        "################ EXPERIMENT##################\n",
        "\n",
        "# import numpy as np\n",
        "# import matplotlib.pyplot as plt\n",
        "# import cv2\n",
        "# from PIL import Image\n",
        "# import tensorflow as tf\n",
        "# from tensorflow import keras\n",
        "\n",
        "# def preprocess_image(image_path):\n",
        "#     # Read the image\n",
        "#     img = cv2.imread(image_path, cv2.IMREAD_GRAYSCALE)\n",
        "\n",
        "#     # Resize to 28x28 (MNIST format)\n",
        "#     img = cv2.resize(img, (28, 28))\n",
        "\n",
        "#     # Invert if needed (MNIST has white digits on black background)\n",
        "#     if np.mean(img) > 127:\n",
        "#         img = 255 - img\n",
        "\n",
        "#     # Normalize to [0,1]\n",
        "#     img = img.astype('float32') / 255.0\n",
        "\n",
        "#     # Add dimensions to match model input shape (batch_size, height, width, channels)\n",
        "#     img = np.expand_dims(img, axis=-1)  # Add channel dimension\n",
        "#     img = np.expand_dims(img, axis=0)   # Add batch dimension\n",
        "\n",
        "#     return img\n",
        "\n",
        "# # Load the saved model\n",
        "# model = create_model()\n",
        "# model.load_weights('mnist.weights.h5')\n",
        "\n",
        "# # Path to your image\n",
        "# image_path = '6.png'  # Replace with actual path to your digit 5 image\n",
        "\n",
        "# # Preprocess the image\n",
        "# processed_image = preprocess_image(image_path)\n",
        "\n",
        "# # Make prediction\n",
        "# predictions = model.predict(processed_image)\n",
        "# predicted_digit = np.argmax(predictions[0])\n",
        "# confidence = predictions[0][predicted_digit] * 100\n",
        "\n",
        "# # Display results\n",
        "# plt.figure(figsize=(12, 4))\n",
        "\n",
        "# # Original image\n",
        "# plt.subplot(1, 3, 1)\n",
        "# orig_img = cv2.imread(image_path, cv2.IMREAD_GRAYSCALE)\n",
        "# plt.imshow(orig_img, cmap='gray')\n",
        "# plt.title('Original Image')\n",
        "# plt.axis('off')\n",
        "\n",
        "# # Processed image\n",
        "# plt.subplot(1, 3, 2)\n",
        "# plt.imshow(processed_image[0, :, :, 0], cmap='gray')\n",
        "# plt.title('Processed Image (28x28)')\n",
        "# plt.axis('off')\n",
        "\n",
        "# # Prediction probabilities\n",
        "# plt.subplot(1, 3, 3)\n",
        "# plt.bar(range(10), predictions[0])\n",
        "# plt.xticks(range(10))\n",
        "# plt.title('Prediction Probabilities')\n",
        "\n",
        "# plt.tight_layout()\n",
        "# plt.show()\n",
        "\n",
        "# # Print results\n",
        "# print(f\"Predicted digit: {predicted_digit}\")\n",
        "# print(f\"Confidence: {confidence:.2f}%\")\n",
        "\n",
        "# # Evaluate model on test set to get overall accuracy\n",
        "# (_, _), (x_test, y_test) = keras.datasets.mnist.load_data()\n",
        "# x_test = x_test.reshape((-1, 28, 28, 1)).astype('float32') / 255\n",
        "# test_loss, test_acc = model.evaluate(x_test, y_test)\n",
        "# print(f'Overall model accuracy on MNIST test set: {test_acc:.4f}')"
      ],
      "metadata": {
        "id": "c8192fJx3n3T"
      },
      "execution_count": null,
      "outputs": []
    },
    {
      "cell_type": "code",
      "source": [
        "'''import cv2\n",
        "import numpy as np\n",
        "\n",
        "# Preprocess the image to enhance the Sudoku grid and remove noise\n",
        "def preprocess(img):\n",
        "    # Convert image to grayscale\n",
        "    img_gray = cv2.cvtColor(img, cv2.COLOR_BGR2GRAY)\n",
        "\n",
        "    # Apply Gaussian blur to reduce noise\n",
        "    blur = cv2.GaussianBlur(img_gray, (9, 9), 0)\n",
        "\n",
        "    # Apply adaptive thresholding to highlight edges\n",
        "    thresh = cv2.adaptiveThreshold(\n",
        "        blur, 255, cv2.ADAPTIVE_THRESH_GAUSSIAN_C,\n",
        "        cv2.THRESH_BINARY, 11, 2)\n",
        "\n",
        "    # Invert the image: grid lines and digits become white\n",
        "    inverted = cv2.bitwise_not(thresh)\n",
        "\n",
        "    # Create a small rectangular kernel\n",
        "    kernel = cv2.getStructuringElement(cv2.MORPH_RECT, (2, 2))\n",
        "\n",
        "    # Use morphological opening to remove noise (like stray dots)\n",
        "    morph = cv2.morphologyEx(inverted, cv2.MORPH_OPEN, kernel)\n",
        "\n",
        "    # Dilate to thicken white regions (like grid lines)\n",
        "    result = cv2.dilate(morph, kernel, iterations=1)\n",
        "\n",
        "    return result\n",
        "sudoku_a = cv2.imread(\"/content/WhatsApp Image 2025-04-18 at 16.13.15_c5bc24d9.jpg\")\n",
        "if sudoku_a is None:\n",
        "    raise ValueError(\"Image file '2.png' not found.\")\n",
        "\n",
        "threshold = preprocess(sudoku_a)\n",
        "\n",
        "# Find and draw contours\n",
        "contour_1 = sudoku_a.copy()\n",
        "contours, hierarchy = cv2.findContours(threshold, cv2.RETR_EXTERNAL, cv2.CHAIN_APPROX_SIMPLE)\n",
        "cv2.drawContours(contour_1,contours, -1, (0, 255, 0), 3)\n",
        "\n",
        "# Order the four corner points of a quadrilateral: TL, TR, BR, BL\n",
        "def order_points(pts):\n",
        "    rect = np.zeros((4, 2), dtype=\"float32\")\n",
        "\n",
        "    # Sum of coordinates: smallest = top-left, largest = bottom-right\n",
        "    s = pts.sum(axis=1)\n",
        "\n",
        "    # Difference of coordinates: smallest = top-right, largest = bottom-left\n",
        "    diff = np.diff(pts, axis=1)\n",
        "\n",
        "    rect[0] = pts[np.argmin(s)]      # top-left\n",
        "    rect[2] = pts[np.argmax(s)]      # bottom-right\n",
        "    rect[1] = pts[np.argmin(diff)]   # top-right\n",
        "    rect[3] = pts[np.argmax(diff)]   # bottom-left\n",
        "\n",
        "    return rect\n",
        "\n",
        "# Find the largest white square (i.e., Sudoku grid), and flatten it\n",
        "def find_largest_square_and_warp(image):\n",
        "    processed = preprocess(image)\n",
        "\n",
        "    # Find all external contours in the image\n",
        "    contours, _ = cv2.findContours(processed, cv2.RETR_EXTERNAL, cv2.CHAIN_APPROX_SIMPLE)\n",
        "\n",
        "    biggest = None\n",
        "    max_area = 0\n",
        "\n",
        "    # Loop through all contours and find the largest 4-sided polygon\n",
        "    for c in contours:\n",
        "        approx = cv2.approxPolyDP(c, 0.02 * cv2.arcLength(c, True), True)\n",
        "        if len(approx) == 4 and cv2.isContourConvex(approx):\n",
        "            area = cv2.contourArea(approx)\n",
        "            if area > max_area:\n",
        "                biggest = approx\n",
        "                max_area = area\n",
        "\n",
        "    if biggest is None:\n",
        "        raise ValueError(\"No grid found!\")\n",
        "\n",
        "    # Order and reshape corner points\n",
        "    pts = order_points(biggest.reshape(4, 2))\n",
        "\n",
        "    # Determine the size of the square to warp to\n",
        "    side = max(\n",
        "        np.linalg.norm(pts[0] - pts[1]),\n",
        "        np.linalg.norm(pts[1] - pts[2]),\n",
        "        np.linalg.norm(pts[2] - pts[3]),\n",
        "        np.linalg.norm(pts[3] - pts[0])\n",
        "    )\n",
        "    side = int(side)\n",
        "\n",
        "    # Destination square (warped image)\n",
        "    dst = np.array([\n",
        "        [0, 0],\n",
        "        [side - 1, 0],\n",
        "        [side - 1, side - 1],\n",
        "        [0, side - 1]\n",
        "    ], dtype=\"float32\")\n",
        "\n",
        "    # Perform perspective transformation\n",
        "    M = cv2.getPerspectiveTransform(pts, dst)\n",
        "    warped = cv2.warpPerspective(image, M, (side, side))\n",
        "\n",
        "    return warped\n",
        "\n",
        "# Split the warped Sudoku square into 81 equal 9x9 cells\n",
        "def split_into_cells(warped_img):\n",
        "    # Convert to grayscale\n",
        "    gray = cv2.cvtColor(warped_img, cv2.COLOR_BGR2GRAY)\n",
        "\n",
        "    side = gray.shape[0]\n",
        "    cell_size = side // 9\n",
        "\n",
        "    cells = []\n",
        "\n",
        "    # Loop over 9 rows and 9 columns to extract each cell\n",
        "    for row in range(9):\n",
        "        for col in range(9):\n",
        "            x = col * cell_size\n",
        "            y = row * cell_size\n",
        "            cell = gray[y:y+cell_size, x:x+cell_size]\n",
        "            cells.append(cell)\n",
        "\n",
        "    return cells\n",
        "\n",
        "# Predict the digit in each cell using a trained model\n",
        "def predict_digits(cells, model):\n",
        "    predictions = []\n",
        "\n",
        "    for cell in cells:\n",
        "        # Resize each cell to the model's input shape (e.g. 28x28)\n",
        "        roi = cv2.resize(cell, (28, 28))\n",
        "\n",
        "        # Normalize the image to 0–1\n",
        "        roi = roi / 255.0\n",
        "\n",
        "        # Reshape for model input: (batch, height, width, channels)\n",
        "        roi = roi.reshape(1, 28, 28, 1)\n",
        "\n",
        "        # Predict the digit\n",
        "        pred = model.predict(roi)\n",
        "\n",
        "        # Get the index of the highest probability\n",
        "        digit = np.argmax(pred)\n",
        "        predictions.append(digit)\n",
        "\n",
        "    return predictions\n",
        "'''"
      ],
      "metadata": {
        "colab": {
          "base_uri": "https://localhost:8080/",
          "height": 174
        },
        "id": "r4Y2PNFXkREM",
        "outputId": "386e2814-51ca-422b-b579-1fdb6c426e72"
      },
      "execution_count": null,
      "outputs": [
        {
          "output_type": "execute_result",
          "data": {
            "text/plain": [
              "'import cv2\\nimport numpy as np\\n\\n# Preprocess the image to enhance the Sudoku grid and remove noise\\ndef preprocess(img):\\n    # Convert image to grayscale\\n    img_gray = cv2.cvtColor(img, cv2.COLOR_BGR2GRAY)\\n\\n    # Apply Gaussian blur to reduce noise\\n    blur = cv2.GaussianBlur(img_gray, (9, 9), 0)\\n\\n    # Apply adaptive thresholding to highlight edges\\n    thresh = cv2.adaptiveThreshold(\\n        blur, 255, cv2.ADAPTIVE_THRESH_GAUSSIAN_C,\\n        cv2.THRESH_BINARY, 11, 2)\\n\\n    # Invert the image: grid lines and digits become white\\n    inverted = cv2.bitwise_not(thresh)\\n\\n    # Create a small rectangular kernel\\n    kernel = cv2.getStructuringElement(cv2.MORPH_RECT, (2, 2))\\n\\n    # Use morphological opening to remove noise (like stray dots)\\n    morph = cv2.morphologyEx(inverted, cv2.MORPH_OPEN, kernel)\\n\\n    # Dilate to thicken white regions (like grid lines)\\n    result = cv2.dilate(morph, kernel, iterations=1)\\n    \\n    return result\\nsudoku_a = cv2.imread(\"/content/WhatsApp Image 2025-04-18 at 16.13.15_c5bc24d9.jpg\")\\nif sudoku_a is None:\\n    raise ValueError(\"Image file \\'2.png\\' not found.\")\\n\\nthreshold = preprocess(sudoku_a)\\n\\n# Find and draw contours\\ncontour_1 = sudoku_a.copy()\\ncontours, hierarchy = cv2.findContours(threshold, cv2.RETR_EXTERNAL, cv2.CHAIN_APPROX_SIMPLE)\\ncv2.drawContours(contour_1,contours, -1, (0, 255, 0), 3)\\n\\n# Order the four corner points of a quadrilateral: TL, TR, BR, BL\\ndef order_points(pts):\\n    rect = np.zeros((4, 2), dtype=\"float32\")\\n    \\n    # Sum of coordinates: smallest = top-left, largest = bottom-right\\n    s = pts.sum(axis=1)\\n    \\n    # Difference of coordinates: smallest = top-right, largest = bottom-left\\n    diff = np.diff(pts, axis=1)\\n\\n    rect[0] = pts[np.argmin(s)]      # top-left\\n    rect[2] = pts[np.argmax(s)]      # bottom-right\\n    rect[1] = pts[np.argmin(diff)]   # top-right\\n    rect[3] = pts[np.argmax(diff)]   # bottom-left\\n\\n    return rect\\n\\n# Find the largest white square (i.e., Sudoku grid), and flatten it\\ndef find_largest_square_and_warp(image):\\n    processed = preprocess(image)\\n\\n    # Find all external contours in the image\\n    contours, _ = cv2.findContours(processed, cv2.RETR_EXTERNAL, cv2.CHAIN_APPROX_SIMPLE)\\n\\n    biggest = None\\n    max_area = 0\\n\\n    # Loop through all contours and find the largest 4-sided polygon\\n    for c in contours:\\n        approx = cv2.approxPolyDP(c, 0.02 * cv2.arcLength(c, True), True)\\n        if len(approx) == 4 and cv2.isContourConvex(approx):\\n            area = cv2.contourArea(approx)\\n            if area > max_area:\\n                biggest = approx\\n                max_area = area\\n\\n    if biggest is None:\\n        raise ValueError(\"No grid found!\")\\n\\n    # Order and reshape corner points\\n    pts = order_points(biggest.reshape(4, 2))\\n\\n    # Determine the size of the square to warp to\\n    side = max(\\n        np.linalg.norm(pts[0] - pts[1]),\\n        np.linalg.norm(pts[1] - pts[2]),\\n        np.linalg.norm(pts[2] - pts[3]),\\n        np.linalg.norm(pts[3] - pts[0])\\n    )\\n    side = int(side)\\n\\n    # Destination square (warped image)\\n    dst = np.array([\\n        [0, 0],\\n        [side - 1, 0],\\n        [side - 1, side - 1],\\n        [0, side - 1]\\n    ], dtype=\"float32\")\\n\\n    # Perform perspective transformation\\n    M = cv2.getPerspectiveTransform(pts, dst)\\n    warped = cv2.warpPerspective(image, M, (side, side))\\n\\n    return warped\\n\\n# Split the warped Sudoku square into 81 equal 9x9 cells\\ndef split_into_cells(warped_img):\\n    # Convert to grayscale\\n    gray = cv2.cvtColor(warped_img, cv2.COLOR_BGR2GRAY)\\n\\n    side = gray.shape[0]\\n    cell_size = side // 9\\n\\n    cells = []\\n\\n    # Loop over 9 rows and 9 columns to extract each cell\\n    for row in range(9):\\n        for col in range(9):\\n            x = col * cell_size\\n            y = row * cell_size\\n            cell = gray[y:y+cell_size, x:x+cell_size]\\n            cells.append(cell)\\n\\n    return cells\\n\\n# Predict the digit in each cell using a trained model\\ndef predict_digits(cells, model):\\n    predictions = []\\n\\n    for cell in cells:\\n        # Resize each cell to the model\\'s input shape (e.g. 28x28)\\n        roi = cv2.resize(cell, (28, 28))\\n\\n        # Normalize the image to 0–1\\n        roi = roi / 255.0\\n\\n        # Reshape for model input: (batch, height, width, channels)\\n        roi = roi.reshape(1, 28, 28, 1)\\n\\n        # Predict the digit\\n        pred = model.predict(roi)\\n\\n        # Get the index of the highest probability\\n        digit = np.argmax(pred)\\n        predictions.append(digit)\\n\\n    return predictions\\n'"
            ],
            "application/vnd.google.colaboratory.intrinsic+json": {
              "type": "string"
            }
          },
          "metadata": {},
          "execution_count": 86
        }
      ]
    },
    {
      "cell_type": "code",
      "source": [
        "import cv2\n",
        "import numpy as np\n",
        "from PIL import Image\n",
        "import matplotlib.pyplot as plt\n",
        "from tensorflow import keras\n",
        "from tensorflow.keras import layers\n",
        "\n",
        "model = create_model()            # Recreate the architecture\n",
        "model.load_weights('mnist.weights.h5')\n",
        "\n",
        "def preprocess(img):\n",
        "    img_gray = cv2.cvtColor(img, cv2.COLOR_BGR2GRAY)\n",
        "\n",
        "    # blur it\n",
        "    blur = cv2.GaussianBlur(img_gray, (9, 9), 0)\n",
        "\n",
        "    # threshold it\n",
        "    thresh = cv2.adaptiveThreshold(blur, 255, cv2.ADAPTIVE_THRESH_GAUSSIAN_C, cv2.THRESH_BINARY, 11, 2)\n",
        "\n",
        "    # invert it so the grid lines and text are white\n",
        "    inverted = cv2.bitwise_not(thresh, 0)\n",
        "\n",
        "    # get a rectangle kernel\n",
        "    kernel = cv2.getStructuringElement(cv2.MORPH_RECT, (2, 2))\n",
        "    # morph it to remove some noise like random dots\n",
        "    morph = cv2.morphologyEx(inverted, cv2.MORPH_OPEN, kernel)\n",
        "\n",
        "    # dilate to increase border size\n",
        "    result = cv2.dilate(morph, kernel, iterations=1)\n",
        "    return result\n",
        "\n",
        "# Load and preprocess the Sudoku image\n",
        "sudoku_a = cv2.imread(\"/content/Screenshot 2025-04-18 164629.png\")\n",
        "if sudoku_a is None:\n",
        "    raise ValueError(\"Image file '2.png' not found.\")\n",
        "\n",
        "threshold = preprocess(sudoku_a)\n",
        "\n",
        "# Find and draw contours\n",
        "contour_1 = sudoku_a.copy()\n",
        "contours, hierarchy = cv2.findContours(threshold, cv2.RETR_EXTERNAL, cv2.CHAIN_APPROX_SIMPLE)\n",
        "cv2.drawContours(contour_1,contours, -1, (0, 255, 0), 3)\n",
        "\n",
        "# Find the largest Sudoku grid contour\n",
        "def main_outline(contours):\n",
        "    biggest = np.array([])\n",
        "    max_area = 0\n",
        "    for cnt in contours:\n",
        "        area = cv2.contourArea(cnt)\n",
        "        if area > 50:\n",
        "            peri = cv2.arcLength(cnt, True)\n",
        "            approx = cv2.approxPolyDP(cnt, 0.02 * peri, True)\n",
        "            if area > max_area and len(approx) == 4:\n",
        "                biggest = approx\n",
        "                max_area = area\n",
        "    return biggest, max_area\n",
        "\n",
        "def reframe(points):\n",
        "    points = points.reshape((4, 2))\n",
        "    points_new = np.zeros((4, 1, 2), dtype=np.int32)\n",
        "    add = points.sum(1)\n",
        "    points_new[0] = points[np.argmin(add)]\n",
        "    points_new[3] = points[np.argmax(add)]\n",
        "    diff = np.diff(points, axis=1)\n",
        "    points_new[1] = points[np.argmin(diff)]\n",
        "    points_new[2] = points[np.argmax(diff)]\n",
        "    return points_new\n",
        "\n",
        "# Warp perspective to get top-down view of Sudoku\n",
        "biggest, maxArea = main_outline(contours)\n",
        "if biggest.size == 0:\n",
        "    raise ValueError(\"No Sudoku grid found.\")\n",
        "biggest = reframe(biggest)\n",
        "pts1 = np.float32(biggest)\n",
        "pts2 = np.float32([[0, 0], [450, 0], [0, 450], [450, 450]])\n",
        "matrix = cv2.getPerspectiveTransform(pts1, pts2)\n",
        "imagewrap = cv2.warpPerspective(sudoku_a, matrix, (450, 450))\n",
        "imagewrap = cv2.cvtColor(imagewrap, cv2.COLOR_BGR2GRAY)\n",
        "\n",
        "# Split into cells and crop\n",
        "def splitcells(img):\n",
        "    rows = np.vsplit(img, 9)\n",
        "    boxes = []\n",
        "    for row in rows:\n",
        "        cols = np.hsplit(row, 9)\n",
        "        for box in cols:\n",
        "            boxes.append(box)\n",
        "    return boxes\n",
        "\n",
        "sudoku_cell = splitcells(imagewrap)\n",
        "\n",
        "def CropCell(cells):\n",
        "    cropped = []\n",
        "    for cell in cells:\n",
        "        h, w = cell.shape\n",
        "        cell = cell[5:h-5, 5:w-5]  # Crop 5 pixels from each side\n",
        "        cropped.append(cell)\n",
        "    return cropped\n",
        "\n",
        "sudoku_cell_cropped = CropCell(sudoku_cell)\n",
        "\n",
        "# Preprocess individual cells for prediction\n",
        "def preprocess_image(img):\n",
        "    img = cv2.resize(img, (28, 28))\n",
        "    if np.mean(img) > 127:\n",
        "        img = 255 - img\n",
        "    img = img.astype('float32') / 255.0\n",
        "    img = np.expand_dims(img, axis=-1)\n",
        "    img = np.expand_dims(img, axis=0)\n",
        "    return img\n",
        "\n",
        "# Predict digits in cells\n",
        "def read_cells(cells, model):\n",
        "    result = []\n",
        "    for cell in cells:\n",
        "        processed = preprocess_image(cell)\n",
        "        predictions = model.predict(processed)\n",
        "        classIndex = np.argmax(predictions, axis=1)\n",
        "        probabilityValue = np.amax(predictions)\n",
        "        result.append(classIndex[0] if probabilityValue > 0.5 else 0)\n",
        "    return result\n",
        "\n",
        "grid = read_cells(sudoku_cell_cropped, model)\n",
        "grid = np.array(grid).reshape(9, 9)\n",
        "print(\"Predicted Sudoku grid:\")\n",
        "print(grid)"
      ],
      "metadata": {
        "colab": {
          "base_uri": "https://localhost:8080/"
        },
        "id": "KNaaTrlR3k8A",
        "outputId": "daef564c-f940-43de-c79d-1e2d3d264298"
      },
      "execution_count": null,
      "outputs": [
        {
          "output_type": "stream",
          "name": "stdout",
          "text": [
            "\u001b[1m1/1\u001b[0m \u001b[32m━━━━━━━━━━━━━━━━━━━━\u001b[0m\u001b[37m\u001b[0m \u001b[1m0s\u001b[0m 410ms/step\n",
            "\u001b[1m1/1\u001b[0m \u001b[32m━━━━━━━━━━━━━━━━━━━━\u001b[0m\u001b[37m\u001b[0m \u001b[1m0s\u001b[0m 42ms/step\n",
            "\u001b[1m1/1\u001b[0m \u001b[32m━━━━━━━━━━━━━━━━━━━━\u001b[0m\u001b[37m\u001b[0m \u001b[1m0s\u001b[0m 40ms/step\n",
            "\u001b[1m1/1\u001b[0m \u001b[32m━━━━━━━━━━━━━━━━━━━━\u001b[0m\u001b[37m\u001b[0m \u001b[1m0s\u001b[0m 41ms/step\n",
            "\u001b[1m1/1\u001b[0m \u001b[32m━━━━━━━━━━━━━━━━━━━━\u001b[0m\u001b[37m\u001b[0m \u001b[1m0s\u001b[0m 49ms/step\n",
            "\u001b[1m1/1\u001b[0m \u001b[32m━━━━━━━━━━━━━━━━━━━━\u001b[0m\u001b[37m\u001b[0m \u001b[1m0s\u001b[0m 44ms/step\n",
            "\u001b[1m1/1\u001b[0m \u001b[32m━━━━━━━━━━━━━━━━━━━━\u001b[0m\u001b[37m\u001b[0m \u001b[1m0s\u001b[0m 50ms/step\n",
            "\u001b[1m1/1\u001b[0m \u001b[32m━━━━━━━━━━━━━━━━━━━━\u001b[0m\u001b[37m\u001b[0m \u001b[1m0s\u001b[0m 41ms/step\n",
            "\u001b[1m1/1\u001b[0m \u001b[32m━━━━━━━━━━━━━━━━━━━━\u001b[0m\u001b[37m\u001b[0m \u001b[1m0s\u001b[0m 56ms/step\n",
            "\u001b[1m1/1\u001b[0m \u001b[32m━━━━━━━━━━━━━━━━━━━━\u001b[0m\u001b[37m\u001b[0m \u001b[1m0s\u001b[0m 45ms/step\n",
            "\u001b[1m1/1\u001b[0m \u001b[32m━━━━━━━━━━━━━━━━━━━━\u001b[0m\u001b[37m\u001b[0m \u001b[1m0s\u001b[0m 34ms/step\n",
            "\u001b[1m1/1\u001b[0m \u001b[32m━━━━━━━━━━━━━━━━━━━━\u001b[0m\u001b[37m\u001b[0m \u001b[1m0s\u001b[0m 29ms/step\n",
            "\u001b[1m1/1\u001b[0m \u001b[32m━━━━━━━━━━━━━━━━━━━━\u001b[0m\u001b[37m\u001b[0m \u001b[1m0s\u001b[0m 28ms/step\n",
            "\u001b[1m1/1\u001b[0m \u001b[32m━━━━━━━━━━━━━━━━━━━━\u001b[0m\u001b[37m\u001b[0m \u001b[1m0s\u001b[0m 29ms/step\n",
            "\u001b[1m1/1\u001b[0m \u001b[32m━━━━━━━━━━━━━━━━━━━━\u001b[0m\u001b[37m\u001b[0m \u001b[1m0s\u001b[0m 28ms/step\n",
            "\u001b[1m1/1\u001b[0m \u001b[32m━━━━━━━━━━━━━━━━━━━━\u001b[0m\u001b[37m\u001b[0m \u001b[1m0s\u001b[0m 38ms/step\n",
            "\u001b[1m1/1\u001b[0m \u001b[32m━━━━━━━━━━━━━━━━━━━━\u001b[0m\u001b[37m\u001b[0m \u001b[1m0s\u001b[0m 27ms/step\n",
            "\u001b[1m1/1\u001b[0m \u001b[32m━━━━━━━━━━━━━━━━━━━━\u001b[0m\u001b[37m\u001b[0m \u001b[1m0s\u001b[0m 28ms/step\n",
            "\u001b[1m1/1\u001b[0m \u001b[32m━━━━━━━━━━━━━━━━━━━━\u001b[0m\u001b[37m\u001b[0m \u001b[1m0s\u001b[0m 28ms/step\n",
            "\u001b[1m1/1\u001b[0m \u001b[32m━━━━━━━━━━━━━━━━━━━━\u001b[0m\u001b[37m\u001b[0m \u001b[1m0s\u001b[0m 27ms/step\n",
            "\u001b[1m1/1\u001b[0m \u001b[32m━━━━━━━━━━━━━━━━━━━━\u001b[0m\u001b[37m\u001b[0m \u001b[1m0s\u001b[0m 27ms/step\n",
            "\u001b[1m1/1\u001b[0m \u001b[32m━━━━━━━━━━━━━━━━━━━━\u001b[0m\u001b[37m\u001b[0m \u001b[1m0s\u001b[0m 28ms/step\n",
            "\u001b[1m1/1\u001b[0m \u001b[32m━━━━━━━━━━━━━━━━━━━━\u001b[0m\u001b[37m\u001b[0m \u001b[1m0s\u001b[0m 27ms/step\n",
            "\u001b[1m1/1\u001b[0m \u001b[32m━━━━━━━━━━━━━━━━━━━━\u001b[0m\u001b[37m\u001b[0m \u001b[1m0s\u001b[0m 30ms/step\n",
            "\u001b[1m1/1\u001b[0m \u001b[32m━━━━━━━━━━━━━━━━━━━━\u001b[0m\u001b[37m\u001b[0m \u001b[1m0s\u001b[0m 29ms/step\n",
            "\u001b[1m1/1\u001b[0m \u001b[32m━━━━━━━━━━━━━━━━━━━━\u001b[0m\u001b[37m\u001b[0m \u001b[1m0s\u001b[0m 30ms/step\n",
            "\u001b[1m1/1\u001b[0m \u001b[32m━━━━━━━━━━━━━━━━━━━━\u001b[0m\u001b[37m\u001b[0m \u001b[1m0s\u001b[0m 28ms/step\n",
            "\u001b[1m1/1\u001b[0m \u001b[32m━━━━━━━━━━━━━━━━━━━━\u001b[0m\u001b[37m\u001b[0m \u001b[1m0s\u001b[0m 28ms/step\n",
            "\u001b[1m1/1\u001b[0m \u001b[32m━━━━━━━━━━━━━━━━━━━━\u001b[0m\u001b[37m\u001b[0m \u001b[1m0s\u001b[0m 28ms/step\n",
            "\u001b[1m1/1\u001b[0m \u001b[32m━━━━━━━━━━━━━━━━━━━━\u001b[0m\u001b[37m\u001b[0m \u001b[1m0s\u001b[0m 31ms/step\n",
            "\u001b[1m1/1\u001b[0m \u001b[32m━━━━━━━━━━━━━━━━━━━━\u001b[0m\u001b[37m\u001b[0m \u001b[1m0s\u001b[0m 29ms/step\n",
            "\u001b[1m1/1\u001b[0m \u001b[32m━━━━━━━━━━━━━━━━━━━━\u001b[0m\u001b[37m\u001b[0m \u001b[1m0s\u001b[0m 37ms/step\n",
            "\u001b[1m1/1\u001b[0m \u001b[32m━━━━━━━━━━━━━━━━━━━━\u001b[0m\u001b[37m\u001b[0m \u001b[1m0s\u001b[0m 29ms/step\n",
            "\u001b[1m1/1\u001b[0m \u001b[32m━━━━━━━━━━━━━━━━━━━━\u001b[0m\u001b[37m\u001b[0m \u001b[1m0s\u001b[0m 28ms/step\n",
            "\u001b[1m1/1\u001b[0m \u001b[32m━━━━━━━━━━━━━━━━━━━━\u001b[0m\u001b[37m\u001b[0m \u001b[1m0s\u001b[0m 28ms/step\n",
            "\u001b[1m1/1\u001b[0m \u001b[32m━━━━━━━━━━━━━━━━━━━━\u001b[0m\u001b[37m\u001b[0m \u001b[1m0s\u001b[0m 28ms/step\n",
            "\u001b[1m1/1\u001b[0m \u001b[32m━━━━━━━━━━━━━━━━━━━━\u001b[0m\u001b[37m\u001b[0m \u001b[1m0s\u001b[0m 29ms/step\n",
            "\u001b[1m1/1\u001b[0m \u001b[32m━━━━━━━━━━━━━━━━━━━━\u001b[0m\u001b[37m\u001b[0m \u001b[1m0s\u001b[0m 29ms/step\n",
            "\u001b[1m1/1\u001b[0m \u001b[32m━━━━━━━━━━━━━━━━━━━━\u001b[0m\u001b[37m\u001b[0m \u001b[1m0s\u001b[0m 29ms/step\n",
            "\u001b[1m1/1\u001b[0m \u001b[32m━━━━━━━━━━━━━━━━━━━━\u001b[0m\u001b[37m\u001b[0m \u001b[1m0s\u001b[0m 29ms/step\n",
            "\u001b[1m1/1\u001b[0m \u001b[32m━━━━━━━━━━━━━━━━━━━━\u001b[0m\u001b[37m\u001b[0m \u001b[1m0s\u001b[0m 29ms/step\n",
            "\u001b[1m1/1\u001b[0m \u001b[32m━━━━━━━━━━━━━━━━━━━━\u001b[0m\u001b[37m\u001b[0m \u001b[1m0s\u001b[0m 29ms/step\n",
            "\u001b[1m1/1\u001b[0m \u001b[32m━━━━━━━━━━━━━━━━━━━━\u001b[0m\u001b[37m\u001b[0m \u001b[1m0s\u001b[0m 31ms/step\n",
            "\u001b[1m1/1\u001b[0m \u001b[32m━━━━━━━━━━━━━━━━━━━━\u001b[0m\u001b[37m\u001b[0m \u001b[1m0s\u001b[0m 29ms/step\n",
            "\u001b[1m1/1\u001b[0m \u001b[32m━━━━━━━━━━━━━━━━━━━━\u001b[0m\u001b[37m\u001b[0m \u001b[1m0s\u001b[0m 29ms/step\n",
            "\u001b[1m1/1\u001b[0m \u001b[32m━━━━━━━━━━━━━━━━━━━━\u001b[0m\u001b[37m\u001b[0m \u001b[1m0s\u001b[0m 29ms/step\n",
            "\u001b[1m1/1\u001b[0m \u001b[32m━━━━━━━━━━━━━━━━━━━━\u001b[0m\u001b[37m\u001b[0m \u001b[1m0s\u001b[0m 29ms/step\n",
            "\u001b[1m1/1\u001b[0m \u001b[32m━━━━━━━━━━━━━━━━━━━━\u001b[0m\u001b[37m\u001b[0m \u001b[1m0s\u001b[0m 38ms/step\n",
            "\u001b[1m1/1\u001b[0m \u001b[32m━━━━━━━━━━━━━━━━━━━━\u001b[0m\u001b[37m\u001b[0m \u001b[1m0s\u001b[0m 29ms/step\n",
            "\u001b[1m1/1\u001b[0m \u001b[32m━━━━━━━━━━━━━━━━━━━━\u001b[0m\u001b[37m\u001b[0m \u001b[1m0s\u001b[0m 28ms/step\n",
            "\u001b[1m1/1\u001b[0m \u001b[32m━━━━━━━━━━━━━━━━━━━━\u001b[0m\u001b[37m\u001b[0m \u001b[1m0s\u001b[0m 28ms/step\n",
            "\u001b[1m1/1\u001b[0m \u001b[32m━━━━━━━━━━━━━━━━━━━━\u001b[0m\u001b[37m\u001b[0m \u001b[1m0s\u001b[0m 30ms/step\n",
            "\u001b[1m1/1\u001b[0m \u001b[32m━━━━━━━━━━━━━━━━━━━━\u001b[0m\u001b[37m\u001b[0m \u001b[1m0s\u001b[0m 29ms/step\n",
            "\u001b[1m1/1\u001b[0m \u001b[32m━━━━━━━━━━━━━━━━━━━━\u001b[0m\u001b[37m\u001b[0m \u001b[1m0s\u001b[0m 31ms/step\n",
            "\u001b[1m1/1\u001b[0m \u001b[32m━━━━━━━━━━━━━━━━━━━━\u001b[0m\u001b[37m\u001b[0m \u001b[1m0s\u001b[0m 29ms/step\n",
            "\u001b[1m1/1\u001b[0m \u001b[32m━━━━━━━━━━━━━━━━━━━━\u001b[0m\u001b[37m\u001b[0m \u001b[1m0s\u001b[0m 29ms/step\n",
            "\u001b[1m1/1\u001b[0m \u001b[32m━━━━━━━━━━━━━━━━━━━━\u001b[0m\u001b[37m\u001b[0m \u001b[1m0s\u001b[0m 29ms/step\n",
            "\u001b[1m1/1\u001b[0m \u001b[32m━━━━━━━━━━━━━━━━━━━━\u001b[0m\u001b[37m\u001b[0m \u001b[1m0s\u001b[0m 29ms/step\n",
            "\u001b[1m1/1\u001b[0m \u001b[32m━━━━━━━━━━━━━━━━━━━━\u001b[0m\u001b[37m\u001b[0m \u001b[1m0s\u001b[0m 29ms/step\n",
            "\u001b[1m1/1\u001b[0m \u001b[32m━━━━━━━━━━━━━━━━━━━━\u001b[0m\u001b[37m\u001b[0m \u001b[1m0s\u001b[0m 30ms/step\n",
            "\u001b[1m1/1\u001b[0m \u001b[32m━━━━━━━━━━━━━━━━━━━━\u001b[0m\u001b[37m\u001b[0m \u001b[1m0s\u001b[0m 30ms/step\n",
            "\u001b[1m1/1\u001b[0m \u001b[32m━━━━━━━━━━━━━━━━━━━━\u001b[0m\u001b[37m\u001b[0m \u001b[1m0s\u001b[0m 30ms/step\n",
            "\u001b[1m1/1\u001b[0m \u001b[32m━━━━━━━━━━━━━━━━━━━━\u001b[0m\u001b[37m\u001b[0m \u001b[1m0s\u001b[0m 40ms/step\n",
            "\u001b[1m1/1\u001b[0m \u001b[32m━━━━━━━━━━━━━━━━━━━━\u001b[0m\u001b[37m\u001b[0m \u001b[1m0s\u001b[0m 29ms/step\n",
            "\u001b[1m1/1\u001b[0m \u001b[32m━━━━━━━━━━━━━━━━━━━━\u001b[0m\u001b[37m\u001b[0m \u001b[1m0s\u001b[0m 28ms/step\n",
            "\u001b[1m1/1\u001b[0m \u001b[32m━━━━━━━━━━━━━━━━━━━━\u001b[0m\u001b[37m\u001b[0m \u001b[1m0s\u001b[0m 30ms/step\n",
            "\u001b[1m1/1\u001b[0m \u001b[32m━━━━━━━━━━━━━━━━━━━━\u001b[0m\u001b[37m\u001b[0m \u001b[1m0s\u001b[0m 32ms/step\n",
            "\u001b[1m1/1\u001b[0m \u001b[32m━━━━━━━━━━━━━━━━━━━━\u001b[0m\u001b[37m\u001b[0m \u001b[1m0s\u001b[0m 29ms/step\n",
            "\u001b[1m1/1\u001b[0m \u001b[32m━━━━━━━━━━━━━━━━━━━━\u001b[0m\u001b[37m\u001b[0m \u001b[1m0s\u001b[0m 33ms/step\n",
            "\u001b[1m1/1\u001b[0m \u001b[32m━━━━━━━━━━━━━━━━━━━━\u001b[0m\u001b[37m\u001b[0m \u001b[1m0s\u001b[0m 30ms/step\n",
            "\u001b[1m1/1\u001b[0m \u001b[32m━━━━━━━━━━━━━━━━━━━━\u001b[0m\u001b[37m\u001b[0m \u001b[1m0s\u001b[0m 30ms/step\n",
            "\u001b[1m1/1\u001b[0m \u001b[32m━━━━━━━━━━━━━━━━━━━━\u001b[0m\u001b[37m\u001b[0m \u001b[1m0s\u001b[0m 29ms/step\n",
            "\u001b[1m1/1\u001b[0m \u001b[32m━━━━━━━━━━━━━━━━━━━━\u001b[0m\u001b[37m\u001b[0m \u001b[1m0s\u001b[0m 29ms/step\n",
            "\u001b[1m1/1\u001b[0m \u001b[32m━━━━━━━━━━━━━━━━━━━━\u001b[0m\u001b[37m\u001b[0m \u001b[1m0s\u001b[0m 29ms/step\n",
            "\u001b[1m1/1\u001b[0m \u001b[32m━━━━━━━━━━━━━━━━━━━━\u001b[0m\u001b[37m\u001b[0m \u001b[1m0s\u001b[0m 29ms/step\n",
            "\u001b[1m1/1\u001b[0m \u001b[32m━━━━━━━━━━━━━━━━━━━━\u001b[0m\u001b[37m\u001b[0m \u001b[1m0s\u001b[0m 30ms/step\n",
            "\u001b[1m1/1\u001b[0m \u001b[32m━━━━━━━━━━━━━━━━━━━━\u001b[0m\u001b[37m\u001b[0m \u001b[1m0s\u001b[0m 28ms/step\n",
            "\u001b[1m1/1\u001b[0m \u001b[32m━━━━━━━━━━━━━━━━━━━━\u001b[0m\u001b[37m\u001b[0m \u001b[1m0s\u001b[0m 30ms/step\n",
            "\u001b[1m1/1\u001b[0m \u001b[32m━━━━━━━━━━━━━━━━━━━━\u001b[0m\u001b[37m\u001b[0m \u001b[1m0s\u001b[0m 33ms/step\n",
            "\u001b[1m1/1\u001b[0m \u001b[32m━━━━━━━━━━━━━━━━━━━━\u001b[0m\u001b[37m\u001b[0m \u001b[1m0s\u001b[0m 29ms/step\n",
            "\u001b[1m1/1\u001b[0m \u001b[32m━━━━━━━━━━━━━━━━━━━━\u001b[0m\u001b[37m\u001b[0m \u001b[1m0s\u001b[0m 28ms/step\n",
            "Predicted Sudoku grid:\n",
            "[[7 0 0 4 9 0 0 3 0]\n",
            " [0 0 0 0 5 0 0 9 7]\n",
            " [0 8 0 0 3 1 0 0 0]\n",
            " [0 0 0 0 0 0 3 1 4]\n",
            " [0 0 0 9 0 3 0 0 0]\n",
            " [6 7 3 0 0 0 0 0 0]\n",
            " [0 0 0 3 3 0 0 9 0]\n",
            " [2 4 0 0 1 0 0 4 0]\n",
            " [0 0 0 0 9 4 0 0 9]]\n"
          ]
        }
      ]
    },
    {
      "cell_type": "code",
      "source": [
        "plt.imshow(threshold, cmap='gray')\n"
      ],
      "metadata": {
        "colab": {
          "base_uri": "https://localhost:8080/",
          "height": 452
        },
        "id": "FxuZnET8bi6m",
        "outputId": "cb42a39a-00a5-427a-9dab-d9a5dff38026"
      },
      "execution_count": null,
      "outputs": [
        {
          "output_type": "execute_result",
          "data": {
            "text/plain": [
              "<matplotlib.image.AxesImage at 0x7da4d74b4ed0>"
            ]
          },
          "metadata": {},
          "execution_count": 71
        },
        {
          "output_type": "display_data",
          "data": {
            "text/plain": [
              "<Figure size 640x480 with 1 Axes>"
            ],
            "image/png": "[encoded data removed]"
          },
          "metadata": {}
        }
      ]
    },
    {
      "cell_type": "code",
      "source": [
        "def find_largest_white_square(image):\n",
        "    # The image is already preprocessed, so don't call preprocess again\n",
        "    # preprocessed = preprocess(image)\n",
        "    preprocessed = image  # Use the image directly\n",
        "\n",
        "    # Find contours\n",
        "    contours, _ = cv2.findContours(preprocessed, cv2.RETR_EXTERNAL, cv2.CHAIN_APPROX_SIMPLE)\n",
        "\n",
        "    max_area = 0\n",
        "    biggest_square = None\n",
        "\n",
        "    for cnt in contours:\n",
        "        approx = cv2.approxPolyDP(cnt, 0.02 * cv2.arcLength(cnt, True), True)\n",
        "        if len(approx) == 4 and cv2.isContourConvex(approx):\n",
        "            area = cv2.contourArea(approx)\n",
        "            if area > max_area:\n",
        "                max_area = area\n",
        "                biggest_square = approx\n",
        "\n",
        "    # Draw the biggest square (optional visualization)\n",
        "    result = image.copy()\n",
        "    if biggest_square is not None:\n",
        "        cv2.drawContours(result, [biggest_square], -1, (0, 255, 0), 3)\n",
        "\n",
        "    return result, biggest_square\n",
        "ans = find_largest_white_square(threshold)\n",
        "plt.imshow(threshold)"
      ],
      "metadata": {
        "colab": {
          "base_uri": "https://localhost:8080/",
          "height": 452
        },
        "id": "pmhOomDu8fvw",
        "outputId": "b1548e59-02a1-443d-d9f3-6966804989d2"
      },
      "execution_count": null,
      "outputs": [
        {
          "output_type": "execute_result",
          "data": {
            "text/plain": [
              "<matplotlib.image.AxesImage at 0x7da4d785b890>"
            ]
          },
          "metadata": {},
          "execution_count": 78
        },
        {
          "output_type": "display_data",
          "data": {
            "text/plain": [
              "<Figure size 640x480 with 1 Axes>"
            ],
            "image/png": "[encoded data removed]"
          },
          "metadata": {}
        }
      ]
    },
    {
      "cell_type": "code",
      "source": [
        "cv2.imshow(imagewrap)"
      ],
      "metadata": {
        "colab": {
          "base_uri": "https://localhost:8080/",
          "height": 349
        },
        "id": "6oqC8271cgcC",
        "outputId": "e8cfd6bd-bb4c-4d70-faea-b30f3ceaf822"
      },
      "execution_count": null,
      "outputs": [
        {
          "output_type": "error",
          "ename": "DisabledFunctionError",
          "evalue": "cv2.imshow() is disabled in Colab, because it causes Jupyter sessions\nto crash; see https://github.com/jupyter/notebook/issues/3935.\nAs a substitution, consider using\n  from google.colab.patches import cv2_imshow\n",
          "traceback": [
            "\u001b[0;31m---------------------------------------------------------------------------\u001b[0m",
            "\u001b[0;31mDisabledFunctionError\u001b[0m                     Traceback (most recent call last)",
            "\u001b[0;32m<ipython-input-73-5578d4a83eaf>\u001b[0m in \u001b[0;36m<cell line: 0>\u001b[0;34m()\u001b[0m\n\u001b[0;32m----> 1\u001b[0;31m \u001b[0mcv2\u001b[0m\u001b[0;34m.\u001b[0m\u001b[0mimshow\u001b[0m\u001b[0;34m(\u001b[0m\u001b[0mimagewrap\u001b[0m\u001b[0;34m)\u001b[0m\u001b[0;34m\u001b[0m\u001b[0;34m\u001b[0m\u001b[0m\n\u001b[0m",
            "\u001b[0;32m/usr/local/lib/python3.11/dist-packages/google/colab/_import_hooks/_cv2.py\u001b[0m in \u001b[0;36mwrapped\u001b[0;34m(*args, **kwargs)\u001b[0m\n\u001b[1;32m     48\u001b[0m   \u001b[0;32mdef\u001b[0m \u001b[0mwrapped\u001b[0m\u001b[0;34m(\u001b[0m\u001b[0;34m*\u001b[0m\u001b[0margs\u001b[0m\u001b[0;34m,\u001b[0m \u001b[0;34m**\u001b[0m\u001b[0mkwargs\u001b[0m\u001b[0;34m)\u001b[0m\u001b[0;34m:\u001b[0m\u001b[0;34m\u001b[0m\u001b[0;34m\u001b[0m\u001b[0m\n\u001b[1;32m     49\u001b[0m     \u001b[0;32mif\u001b[0m \u001b[0;32mnot\u001b[0m \u001b[0mos\u001b[0m\u001b[0;34m.\u001b[0m\u001b[0menviron\u001b[0m\u001b[0;34m.\u001b[0m\u001b[0mget\u001b[0m\u001b[0;34m(\u001b[0m\u001b[0menv_var\u001b[0m\u001b[0;34m,\u001b[0m \u001b[0;32mFalse\u001b[0m\u001b[0;34m)\u001b[0m\u001b[0;34m:\u001b[0m\u001b[0;34m\u001b[0m\u001b[0;34m\u001b[0m\u001b[0m\n\u001b[0;32m---> 50\u001b[0;31m       \u001b[0;32mraise\u001b[0m \u001b[0mDisabledFunctionError\u001b[0m\u001b[0;34m(\u001b[0m\u001b[0mmessage\u001b[0m\u001b[0;34m,\u001b[0m \u001b[0mname\u001b[0m \u001b[0;32mor\u001b[0m \u001b[0mfunc\u001b[0m\u001b[0;34m.\u001b[0m\u001b[0m__name__\u001b[0m\u001b[0;34m)\u001b[0m\u001b[0;34m\u001b[0m\u001b[0;34m\u001b[0m\u001b[0m\n\u001b[0m\u001b[1;32m     51\u001b[0m     \u001b[0;32mreturn\u001b[0m \u001b[0mfunc\u001b[0m\u001b[0;34m(\u001b[0m\u001b[0;34m*\u001b[0m\u001b[0margs\u001b[0m\u001b[0;34m,\u001b[0m \u001b[0;34m**\u001b[0m\u001b[0mkwargs\u001b[0m\u001b[0;34m)\u001b[0m\u001b[0;34m\u001b[0m\u001b[0;34m\u001b[0m\u001b[0m\n\u001b[1;32m     52\u001b[0m \u001b[0;34m\u001b[0m\u001b[0m\n",
            "\u001b[0;31mDisabledFunctionError\u001b[0m: cv2.imshow() is disabled in Colab, because it causes Jupyter sessions\nto crash; see https://github.com/jupyter/notebook/issues/3935.\nAs a substitution, consider using\n  from google.colab.patches import cv2_imshow\n"
          ],
          "errorDetails": {
            "actions": [
              {
                "action": "open_snippet",
                "actionText": "Search Snippets for cv2.imshow",
                "snippetFilter": "cv2.imshow"
              }
            ]
          }
        }
      ]
    },
    {
      "cell_type": "code",
      "source": [
        "print(maxArea)"
      ],
      "metadata": {
        "colab": {
          "base_uri": "https://localhost:8080/"
        },
        "id": "zwZKQaCpdviE",
        "outputId": "b3e63ef4-3850-43ac-e434-7a2e47ee6911"
      },
      "execution_count": null,
      "outputs": [
        {
          "output_type": "stream",
          "name": "stdout",
          "text": [
            "615167.5\n"
          ]
        }
      ]
    },
    {
      "cell_type": "code",
      "source": [],
      "metadata": {
        "id": "A4CbVaeKd6p6"
      },
      "execution_count": null,
      "outputs": []
    }
  ]
}